{
 "cells": [
  {
   "cell_type": "code",
   "execution_count": 5,
   "metadata": {},
   "outputs": [],
   "source": [
    "from ocrpy import DocumentReader, TextOcrIndexPipeline\n",
    "from haystack.nodes import BM25Retriever, TfidfRetriever\n",
    "from haystack.document_stores import OpenSearchDocumentStore"
   ]
  },
  {
   "cell_type": "code",
   "execution_count": null,
   "metadata": {},
   "outputs": [],
   "source": [
    "# unzip the data\n",
    "!unzip sample_data/data.zip -d sample_data/data\n",
    "!mkdir sample_data/output"
   ]
  },
  {
   "cell_type": "markdown",
   "metadata": {},
   "source": [
    "### Lets create a new pipeline and Index the documents"
   ]
  },
  {
   "cell_type": "code",
   "execution_count": 2,
   "metadata": {},
   "outputs": [],
   "source": [
    "SOURCE = 'sample_data/data' # s3 bucket or local directory or gcs bucket with your documents.\n",
    "DESTINATION = 'sample_data/output/' # s3 bucket or local directory or gcs bucket to write the processed documents.\n",
    "PARSER = 'pytesseract' # or 'google-cloud-vision' or 'pytesseract'\n",
    "CREDENTIALS = {\"AWS\": \"path/to/aws-credentials.env/file\",\n",
    "               \"GCP\": \"path/to/gcp-credentials.json/file\"} # optional - if you are using any cloud service.\n",
    "\n",
    "DATABASE_BACKEND = \"opensearch\"\n",
    "DATABASE_CONFIG = {\"opensearch\": {\"port\": 9200, \"username\": \"admin\", \"password\": \"admin\"} , \"batch_size\": 100}"
   ]
  },
  {
   "cell_type": "code",
   "execution_count": 8,
   "metadata": {},
   "outputs": [],
   "source": [
    "pipeline = TextOcrIndexPipeline(source_dir= SOURCE,\n",
    "                                destination_dir=DESTINATION,\n",
    "                                parser_backend=PARSER,\n",
    "                                credentials_config=CREDENTIALS,\n",
    "                                database_backend=DATABASE_BACKEND,\n",
    "                                database_config=DATABASE_CONFIG)"
   ]
  },
  {
   "cell_type": "code",
   "execution_count": 9,
   "metadata": {},
   "outputs": [
    {
     "name": "stdout",
     "output_type": "stream",
     "text": [
      "Running Pipeline with the following configuration:\n",
      "\n",
      "1. DOCUMENT_SOURCE: sample_data\n",
      "2. DOCUMENT_DESTINATION: output\n",
      "3. SOURCE_STORAGE_TYPE: LOCAL\n",
      "4. DESTINATION_STORAGE_TYPE: LOCAL\n",
      "5. PARSER_BACKEND_TYPE: pytesseract\n",
      "6. TOTAL_DOCUMENT_COUNT: 13\n",
      "7. IMAGE_FILE_COUNT: 7\n",
      "8. PDF_FILE_COUNT: 4\n",
      "9. CREDENTIALS: {'AWS': 'path/to/aws-credentials.env/file', 'GCP': 'path/to/gcp-credentials.json/file'}\n",
      "10. DATABASE_BACKEND: opensearch\n",
      "11. DATABASE_CONFIG: {'opensearch': {'port': 9200, 'username': 'admin', 'password': 'admin'}, 'batch_size': 100}\n"
     ]
    },
    {
     "name": "stderr",
     "output_type": "stream",
     "text": [
      "2it [00:11,  5.74s/it]"
     ]
    },
    {
     "name": "stdout",
     "output_type": "stream",
     "text": [
      "FILE: .DS_Store - ERROR: 'FileTypeNotSupported' object is not iterable\n"
     ]
    },
    {
     "name": "stderr",
     "output_type": "stream",
     "text": [
      "6it [00:44, 10.32s/it]"
     ]
    },
    {
     "name": "stdout",
     "output_type": "stream",
     "text": [
      "FILE: output - ERROR: 'FileTypeNotSupported' object is not iterable\n"
     ]
    },
    {
     "name": "stderr",
     "output_type": "stream",
     "text": [
      "13it [02:01,  9.38s/it]\n"
     ]
    }
   ],
   "source": [
    "pipeline.process()"
   ]
  },
  {
   "cell_type": "markdown",
   "metadata": {},
   "source": [
    "### Lets create a document retriever and search for the documents."
   ]
  },
  {
   "cell_type": "code",
   "execution_count": 10,
   "metadata": {},
   "outputs": [],
   "source": [
    "# Create a document store to retrieve;\n",
    "doc_store = OpenSearchDocumentStore(**DATABASE_CONFIG['opensearch'])\n",
    "retriver = BM25Retriever(doc_store)\n"
   ]
  },
  {
   "cell_type": "code",
   "execution_count": 17,
   "metadata": {},
   "outputs": [
    {
     "name": "stdout",
     "output_type": "stream",
     "text": [
      "10.1.1.839.3147_removed_pytesseract.json\n",
      "The metabolic and psychological effects of\n",
      "exercise training in hemodialysis patients\" ?\n",
      "\n",
      "Andrew P. Goldberg, M.D., James Hagberg, Ph.D., James A. Delmez, M.D.,\n",
      "Robert M. Carney, Ph.D., Patricia M. McKevitt, ACSW, Ali A. Ehsani, M.D., and\n",
      "Herschel R. Harter, M.D.\n",
      "\n",
      "ABSTRACT The effect of exercise training on metabolic abnormalities and psychological\n",
      "function was assessed in seven hemodialysis patients. Their initial work capacity was low and\n",
      "improved after 8 months of training. Exercise was associated with a reduction in the dose of\n",
      "antihypertensive medications in four patients and a decrease in phosphate binder therapy in three\n",
      "patients. There was also a rise in hematocrit levels (%A = 34 + 20%, P < 0.03) and the hemoglobin\n",
      "concentration (%A = 37 + 23%, P < 0.05) of five males. Plasma glucose levels fell (—5 + 2%, P<\n",
      "0.05, n = 5) and the glucose disappearance rate improved (20 + 7%, P < 0.02), while hyperinsulinism\n",
      "decreased (—36 + 20%, P < 0.02, n = 5) during training. There was no ch\n",
      "----------\n"
     ]
    }
   ],
   "source": [
    "for i in retriver.retrieve(query=\"metabolism\", top_k=2):\n",
    "    print(i.meta['file_name'])\n",
    "    print(i.content[:1000])\n",
    "    print(\"-\"*10)"
   ]
  },
  {
   "cell_type": "code",
   "execution_count": null,
   "metadata": {},
   "outputs": [],
   "source": []
  }
 ],
 "metadata": {
  "kernelspec": {
   "display_name": "Python 3.8.8 ('base')",
   "language": "python",
   "name": "python3"
  },
  "language_info": {
   "codemirror_mode": {
    "name": "ipython",
    "version": 3
   },
   "file_extension": ".py",
   "mimetype": "text/x-python",
   "name": "python",
   "nbconvert_exporter": "python",
   "pygments_lexer": "ipython3",
   "version": "3.8.8"
  },
  "orig_nbformat": 4,
  "vscode": {
   "interpreter": {
    "hash": "df77feada6351b27bbd6d76bad3ff5503c942d24557a7a15d7c3085b4f9c786b"
   }
  }
 },
 "nbformat": 4,
 "nbformat_minor": 2
}
